{
  "nbformat": 4,
  "nbformat_minor": 0,
  "metadata": {
    "colab": {
      "name": "Latihan1.ipynb",
      "provenance": [],
      "authorship_tag": "ABX9TyM2SSZs/glm5dK/hdAGuATk",
      "include_colab_link": true
    },
    "kernelspec": {
      "name": "python3",
      "display_name": "Python 3"
    },
    "language_info": {
      "name": "python"
    }
  },
  "cells": [
    {
      "cell_type": "markdown",
      "metadata": {
        "id": "view-in-github",
        "colab_type": "text"
      },
      "source": [
        "<a href=\"https://colab.research.google.com/github/frdaqthrr/DeepLearning/blob/main/Latihan1.ipynb\" target=\"_parent\"><img src=\"https://colab.research.google.com/assets/colab-badge.svg\" alt=\"Open In Colab\"/></a>"
      ]
    },
    {
      "cell_type": "code",
      "execution_count": 2,
      "metadata": {
        "id": "cpS_NZgw91eF"
      },
      "outputs": [],
      "source": [
        ""
      ]
    },
    {
      "cell_type": "markdown",
      "source": [
        "# Latihan pertama"
      ],
      "metadata": {
        "id": "9SzY1kcYyhtR"
      }
    },
    {
      "cell_type": "code",
      "source": [
        "print('Assalamualaikum dan Selamat Pagi')\n",
        "print('Nama Saya A. Muh. Farid Aqthar')\n",
        "print('________________________')\n",
        "print('Comtoh Seleksi Kelulusan')\n",
        "print('Silahkan Input Nilai')\n",
        "siswa = input('Nama Siswa:')\n",
        "nilai = int(input('Nilai Siswa:'))\n",
        "if nilai > 70:\n",
        "  print(siswa, 'Dinyatakan Lulus')\n",
        "elif nilai == 70:\n",
        "  print(siswa,'akan diberikan kelas tambahan sebelum dinyatakan lulus')\n",
        "else:\n",
        "  print(siswa,'Dinyatakan tidak lulus')"
      ],
      "metadata": {
        "colab": {
          "base_uri": "https://localhost:8080/"
        },
        "id": "AVXmchzIyo0O",
        "outputId": "1cc5d0b0-cf7d-4653-8e77-3eee1908a913"
      },
      "execution_count": 3,
      "outputs": [
        {
          "output_type": "stream",
          "name": "stdout",
          "text": [
            "Assalamualaikum dan Selamat Pagi\n",
            "Nama Saya A. Muh. Farid Aqthar\n",
            "________________________\n",
            "Comtoh Seleksi Kelulusan\n",
            "Silahkan Input Nilai\n",
            "Nama Siswa:98\n",
            "Nilai Siswa:78\n",
            "98 Dinyatakan Lulus\n"
          ]
        }
      ]
    }
  ]
}