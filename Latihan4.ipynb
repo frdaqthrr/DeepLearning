{
  "nbformat": 4,
  "nbformat_minor": 0,
  "metadata": {
    "colab": {
      "name": "Latihan4.ipynb",
      "provenance": [],
      "authorship_tag": "ABX9TyNyV6JjTFIiKY4mpkYWbohA",
      "include_colab_link": true
    },
    "kernelspec": {
      "name": "python3",
      "display_name": "Python 3"
    },
    "language_info": {
      "name": "python"
    }
  },
  "cells": [
    {
      "cell_type": "markdown",
      "metadata": {
        "id": "view-in-github",
        "colab_type": "text"
      },
      "source": [
        "<a href=\"https://colab.research.google.com/github/frdaqthrr/DeepLearning/blob/main/Latihan4.ipynb\" target=\"_parent\"><img src=\"https://colab.research.google.com/assets/colab-badge.svg\" alt=\"Open In Colab\"/></a>"
      ]
    },
    {
      "cell_type": "code",
      "execution_count": null,
      "metadata": {
        "id": "m-PRJXNZBtmk"
      },
      "outputs": [],
      "source": [
        ""
      ]
    },
    {
      "cell_type": "code",
      "execution_count": null,
      "metadata": {
        "id": "XsqHGsLYVZDU"
      },
      "outputs": [],
      "source": [
        "!pip install tensorflow"
      ]
    },
    {
      "cell_type": "code",
      "source": [
        "import tensorflow as tf\n",
        "import matplotlib.pyplot as plt\n",
        "from tensorflow.keras import datasets, layers, models, losses"
      ],
      "metadata": {
        "id": "vHOituvrWWBd"
      },
      "execution_count": null,
      "outputs": []
    },
    {
      "cell_type": "code",
      "source": [
        "(x_train,y_train),(x_test,y_test) = datasets.mnist.load_data()\n",
        "x_train.shape"
      ],
      "metadata": {
        "id": "GPXxFOqrWWNp"
      },
      "execution_count": null,
      "outputs": []
    },
    {
      "cell_type": "code",
      "source": [
        "x_train = tf.pad(x_train, [[0, 0], [2,2], [2,2]])/255\n",
        "x_test = tf.pad(x_test, [[0, 0], [2,2], [2,2]])/255\n",
        "x_train.shape"
      ],
      "metadata": {
        "id": "UEyVcx_lWhZk"
      },
      "execution_count": null,
      "outputs": []
    },
    {
      "cell_type": "code",
      "source": [
        "x_train = tf.expand_dims(x_train, axis=3, name=None)\n",
        "x_test = tf.expand_dims(x_test, axis=3, name=None)\n",
        "x_train.shape"
      ],
      "metadata": {
        "id": "BzHFrneMvuUQ"
      },
      "execution_count": null,
      "outputs": []
    },
    {
      "cell_type": "code",
      "source": [
        "x_val = x_train[-2000:,:,:,:] \n",
        "y_val = y_train[-2000:] \n",
        "x_train = x_train[:-2000,:,:,:] \n",
        "y_train = y_train[:-2000]"
      ],
      "metadata": {
        "id": "Ee_zOMr7Wl5D"
      },
      "execution_count": null,
      "outputs": []
    },
    {
      "cell_type": "code",
      "source": [
        "model = models.Sequential()\n",
        "model.add(layers.Conv2D(6, 5, activation='tanh', input_shape=x_train.shape[1:]))\n",
        "model.add(layers.AveragePooling2D(2))\n",
        "model.add(layers.Activation('sigmoid'))\n",
        "model.add(layers.Conv2D(16, 5, activation='tanh'))\n",
        "model.add(layers.AveragePooling2D(2))\n",
        "model.add(layers.Activation('sigmoid'))\n",
        "model.add(layers.Conv2D(120, 5, activation='tanh'))\n",
        "model.add(layers.Flatten())\n",
        "model.add(layers.Dense(84, activation='tanh'))\n",
        "model.add(layers.Dense(10, activation='softmax'))\n",
        "model.summary()"
      ],
      "metadata": {
        "id": "iebSwtbsWur3"
      },
      "execution_count": null,
      "outputs": []
    },
    {
      "cell_type": "code",
      "source": [
        "model.compile(optimizer='adam', loss=losses.sparse_categorical_crossentropy, metrics=['accuracy'])"
      ],
      "metadata": {
        "id": "mllAh_cGW05p"
      },
      "execution_count": null,
      "outputs": []
    },
    {
      "cell_type": "code",
      "source": [
        "history = model.fit(x_train, y_train, batch_size=64, epochs=40, validation_data=(x_val, y_val))"
      ],
      "metadata": {
        "colab": {
          "base_uri": "https://localhost:8080/"
        },
        "id": "UVXTiLy_YFOB",
        "outputId": "79746d77-091e-4a05-bd62-7e74e1ebecf2"
      },
      "execution_count": null,
      "outputs": [
        {
          "output_type": "stream",
          "name": "stdout",
          "text": [
            "Epoch 1/40\n",
            "907/907 [==============================] - 46s 50ms/step - loss: 1.3944 - accuracy: 0.4924 - val_loss: 0.3548 - val_accuracy: 0.9025\n",
            "Epoch 2/40\n",
            "907/907 [==============================] - 35s 39ms/step - loss: 0.3778 - accuracy: 0.8809 - val_loss: 0.2229 - val_accuracy: 0.9340\n",
            "Epoch 3/40\n",
            "907/907 [==============================] - 35s 38ms/step - loss: 0.2990 - accuracy: 0.9036 - val_loss: 0.1801 - val_accuracy: 0.9475\n",
            "Epoch 4/40\n",
            "907/907 [==============================] - 35s 39ms/step - loss: 0.2470 - accuracy: 0.9200 - val_loss: 0.1929 - val_accuracy: 0.9365\n",
            "Epoch 5/40\n",
            "907/907 [==============================] - 35s 39ms/step - loss: 0.2162 - accuracy: 0.9297 - val_loss: 0.1408 - val_accuracy: 0.9605\n",
            "Epoch 6/40\n",
            "907/907 [==============================] - 36s 40ms/step - loss: 0.1893 - accuracy: 0.9394 - val_loss: 0.1259 - val_accuracy: 0.9710\n",
            "Epoch 7/40\n",
            "907/907 [==============================] - 37s 41ms/step - loss: 0.1767 - accuracy: 0.9437 - val_loss: 0.1123 - val_accuracy: 0.9670\n",
            "Epoch 8/40\n",
            "907/907 [==============================] - 36s 39ms/step - loss: 0.1572 - accuracy: 0.9494 - val_loss: 0.0986 - val_accuracy: 0.9735\n",
            "Epoch 9/40\n",
            "907/907 [==============================] - 36s 40ms/step - loss: 0.1496 - accuracy: 0.9520 - val_loss: 0.1092 - val_accuracy: 0.9715\n",
            "Epoch 10/40\n",
            "907/907 [==============================] - 37s 41ms/step - loss: 0.1389 - accuracy: 0.9555 - val_loss: 0.0959 - val_accuracy: 0.9745\n",
            "Epoch 11/40\n",
            "907/907 [==============================] - 36s 40ms/step - loss: 0.1286 - accuracy: 0.9593 - val_loss: 0.1080 - val_accuracy: 0.9715\n",
            "Epoch 12/40\n",
            "907/907 [==============================] - 33s 36ms/step - loss: 0.1244 - accuracy: 0.9598 - val_loss: 0.1075 - val_accuracy: 0.9705\n",
            "Epoch 13/40\n",
            "907/907 [==============================] - 36s 40ms/step - loss: 0.1186 - accuracy: 0.9614 - val_loss: 0.0666 - val_accuracy: 0.9845\n",
            "Epoch 14/40\n",
            "742/907 [=======================>......] - ETA: 5s - loss: 0.1099 - accuracy: 0.9653"
          ]
        }
      ]
    },
    {
      "cell_type": "code",
      "source": [
        "fig, axs = plt.subplots(2, 1, figsize=(15,15))\n",
        "\n",
        "axs[0].plot(history.history['loss']) \n",
        "axs[0].plot(history.history['val_loss']) \n",
        "axs[0].title.set_text('Training Loss vs Validation Loss') \n",
        "axs[0].legend(['Train', 'Val']) \n",
        "\n",
        "axs[1].plot(history.history['accuracy']) \n",
        "axs[1].plot(history.history['val_accuracy']) \n",
        "axs[1].title.set_text('Training Accuracy vs Validation Accuracy') \n",
        "axs[1].legend(['Train', 'Val'])"
      ],
      "metadata": {
        "id": "RIcA4Gi9YIy2"
      },
      "execution_count": null,
      "outputs": []
    },
    {
      "cell_type": "code",
      "source": [
        "model.evaluate(x_test, y_test)"
      ],
      "metadata": {
        "id": "C1JpydA4YL9d"
      },
      "execution_count": null,
      "outputs": []
    }
  ]
}