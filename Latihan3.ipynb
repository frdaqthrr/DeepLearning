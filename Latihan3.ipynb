{
  "nbformat": 4,
  "nbformat_minor": 0,
  "metadata": {
    "colab": {
      "name": "Latihan3.ipynb",
      "provenance": [],
      "authorship_tag": "ABX9TyNcZ9hQdaoGm9/1XnU0AECw",
      "include_colab_link": true
    },
    "kernelspec": {
      "name": "python3",
      "display_name": "Python 3"
    },
    "language_info": {
      "name": "python"
    }
  },
  "cells": [
    {
      "cell_type": "markdown",
      "metadata": {
        "id": "view-in-github",
        "colab_type": "text"
      },
      "source": [
        "<a href=\"https://colab.research.google.com/github/frdaqthrr/DeepLearning/blob/main/Latihan3.ipynb\" target=\"_parent\"><img src=\"https://colab.research.google.com/assets/colab-badge.svg\" alt=\"Open In Colab\"/></a>"
      ]
    },
    {
      "cell_type": "code",
      "execution_count": null,
      "metadata": {
        "id": "hzW2k3JdAxzz"
      },
      "outputs": [],
      "source": [
        ""
      ]
    },
    {
      "cell_type": "code",
      "execution_count": 1,
      "metadata": {
        "colab": {
          "base_uri": "https://localhost:8080/"
        },
        "id": "Fv0bEdhD4MkN",
        "outputId": "9258adcf-0f2c-493b-9f91-9aba1b08e860"
      },
      "outputs": [
        {
          "output_type": "stream",
          "name": "stdout",
          "text": [
            "Requirement already satisfied: tensorflow in /usr/local/lib/python3.7/dist-packages (2.8.0)\n",
            "Requirement already satisfied: h5py>=2.9.0 in /usr/local/lib/python3.7/dist-packages (from tensorflow) (3.1.0)\n",
            "Requirement already satisfied: keras-preprocessing>=1.1.1 in /usr/local/lib/python3.7/dist-packages (from tensorflow) (1.1.2)\n",
            "Requirement already satisfied: keras<2.9,>=2.8.0rc0 in /usr/local/lib/python3.7/dist-packages (from tensorflow) (2.8.0)\n",
            "Requirement already satisfied: google-pasta>=0.1.1 in /usr/local/lib/python3.7/dist-packages (from tensorflow) (0.2.0)\n",
            "Requirement already satisfied: termcolor>=1.1.0 in /usr/local/lib/python3.7/dist-packages (from tensorflow) (1.1.0)\n",
            "Requirement already satisfied: libclang>=9.0.1 in /usr/local/lib/python3.7/dist-packages (from tensorflow) (14.0.1)\n",
            "Requirement already satisfied: gast>=0.2.1 in /usr/local/lib/python3.7/dist-packages (from tensorflow) (0.5.3)\n",
            "Requirement already satisfied: tensorflow-io-gcs-filesystem>=0.23.1 in /usr/local/lib/python3.7/dist-packages (from tensorflow) (0.25.0)\n",
            "Requirement already satisfied: astunparse>=1.6.0 in /usr/local/lib/python3.7/dist-packages (from tensorflow) (1.6.3)\n",
            "Requirement already satisfied: wrapt>=1.11.0 in /usr/local/lib/python3.7/dist-packages (from tensorflow) (1.14.0)\n",
            "Requirement already satisfied: numpy>=1.20 in /usr/local/lib/python3.7/dist-packages (from tensorflow) (1.21.6)\n",
            "Requirement already satisfied: opt-einsum>=2.3.2 in /usr/local/lib/python3.7/dist-packages (from tensorflow) (3.3.0)\n",
            "Requirement already satisfied: flatbuffers>=1.12 in /usr/local/lib/python3.7/dist-packages (from tensorflow) (2.0)\n",
            "Requirement already satisfied: absl-py>=0.4.0 in /usr/local/lib/python3.7/dist-packages (from tensorflow) (1.0.0)\n",
            "Requirement already satisfied: tensorboard<2.9,>=2.8 in /usr/local/lib/python3.7/dist-packages (from tensorflow) (2.8.0)\n",
            "Requirement already satisfied: protobuf>=3.9.2 in /usr/local/lib/python3.7/dist-packages (from tensorflow) (3.17.3)\n",
            "Requirement already satisfied: grpcio<2.0,>=1.24.3 in /usr/local/lib/python3.7/dist-packages (from tensorflow) (1.44.0)\n",
            "Requirement already satisfied: typing-extensions>=3.6.6 in /usr/local/lib/python3.7/dist-packages (from tensorflow) (4.2.0)\n",
            "Requirement already satisfied: six>=1.12.0 in /usr/local/lib/python3.7/dist-packages (from tensorflow) (1.15.0)\n",
            "Requirement already satisfied: setuptools in /usr/local/lib/python3.7/dist-packages (from tensorflow) (57.4.0)\n",
            "Collecting tf-estimator-nightly==2.8.0.dev2021122109\n",
            "  Downloading tf_estimator_nightly-2.8.0.dev2021122109-py2.py3-none-any.whl (462 kB)\n",
            "\u001b[K     |████████████████████████████████| 462 kB 4.2 MB/s \n",
            "\u001b[?25hRequirement already satisfied: wheel<1.0,>=0.23.0 in /usr/local/lib/python3.7/dist-packages (from astunparse>=1.6.0->tensorflow) (0.37.1)\n",
            "Requirement already satisfied: cached-property in /usr/local/lib/python3.7/dist-packages (from h5py>=2.9.0->tensorflow) (1.5.2)\n",
            "Requirement already satisfied: requests<3,>=2.21.0 in /usr/local/lib/python3.7/dist-packages (from tensorboard<2.9,>=2.8->tensorflow) (2.23.0)\n",
            "Requirement already satisfied: tensorboard-plugin-wit>=1.6.0 in /usr/local/lib/python3.7/dist-packages (from tensorboard<2.9,>=2.8->tensorflow) (1.8.1)\n",
            "Requirement already satisfied: markdown>=2.6.8 in /usr/local/lib/python3.7/dist-packages (from tensorboard<2.9,>=2.8->tensorflow) (3.3.6)\n",
            "Requirement already satisfied: google-auth-oauthlib<0.5,>=0.4.1 in /usr/local/lib/python3.7/dist-packages (from tensorboard<2.9,>=2.8->tensorflow) (0.4.6)\n",
            "Requirement already satisfied: werkzeug>=0.11.15 in /usr/local/lib/python3.7/dist-packages (from tensorboard<2.9,>=2.8->tensorflow) (1.0.1)\n",
            "Requirement already satisfied: tensorboard-data-server<0.7.0,>=0.6.0 in /usr/local/lib/python3.7/dist-packages (from tensorboard<2.9,>=2.8->tensorflow) (0.6.1)\n",
            "Requirement already satisfied: google-auth<3,>=1.6.3 in /usr/local/lib/python3.7/dist-packages (from tensorboard<2.9,>=2.8->tensorflow) (1.35.0)\n",
            "Requirement already satisfied: rsa<5,>=3.1.4 in /usr/local/lib/python3.7/dist-packages (from google-auth<3,>=1.6.3->tensorboard<2.9,>=2.8->tensorflow) (4.8)\n",
            "Requirement already satisfied: cachetools<5.0,>=2.0.0 in /usr/local/lib/python3.7/dist-packages (from google-auth<3,>=1.6.3->tensorboard<2.9,>=2.8->tensorflow) (4.2.4)\n",
            "Requirement already satisfied: pyasn1-modules>=0.2.1 in /usr/local/lib/python3.7/dist-packages (from google-auth<3,>=1.6.3->tensorboard<2.9,>=2.8->tensorflow) (0.2.8)\n",
            "Requirement already satisfied: requests-oauthlib>=0.7.0 in /usr/local/lib/python3.7/dist-packages (from google-auth-oauthlib<0.5,>=0.4.1->tensorboard<2.9,>=2.8->tensorflow) (1.3.1)\n",
            "Requirement already satisfied: importlib-metadata>=4.4 in /usr/local/lib/python3.7/dist-packages (from markdown>=2.6.8->tensorboard<2.9,>=2.8->tensorflow) (4.11.3)\n",
            "Requirement already satisfied: zipp>=0.5 in /usr/local/lib/python3.7/dist-packages (from importlib-metadata>=4.4->markdown>=2.6.8->tensorboard<2.9,>=2.8->tensorflow) (3.8.0)\n",
            "Requirement already satisfied: pyasn1<0.5.0,>=0.4.6 in /usr/local/lib/python3.7/dist-packages (from pyasn1-modules>=0.2.1->google-auth<3,>=1.6.3->tensorboard<2.9,>=2.8->tensorflow) (0.4.8)\n",
            "Requirement already satisfied: chardet<4,>=3.0.2 in /usr/local/lib/python3.7/dist-packages (from requests<3,>=2.21.0->tensorboard<2.9,>=2.8->tensorflow) (3.0.4)\n",
            "Requirement already satisfied: idna<3,>=2.5 in /usr/local/lib/python3.7/dist-packages (from requests<3,>=2.21.0->tensorboard<2.9,>=2.8->tensorflow) (2.10)\n",
            "Requirement already satisfied: certifi>=2017.4.17 in /usr/local/lib/python3.7/dist-packages (from requests<3,>=2.21.0->tensorboard<2.9,>=2.8->tensorflow) (2021.10.8)\n",
            "Requirement already satisfied: urllib3!=1.25.0,!=1.25.1,<1.26,>=1.21.1 in /usr/local/lib/python3.7/dist-packages (from requests<3,>=2.21.0->tensorboard<2.9,>=2.8->tensorflow) (1.24.3)\n",
            "Requirement already satisfied: oauthlib>=3.0.0 in /usr/local/lib/python3.7/dist-packages (from requests-oauthlib>=0.7.0->google-auth-oauthlib<0.5,>=0.4.1->tensorboard<2.9,>=2.8->tensorflow) (3.2.0)\n",
            "Installing collected packages: tf-estimator-nightly\n",
            "Successfully installed tf-estimator-nightly-2.8.0.dev2021122109\n"
          ]
        }
      ],
      "source": [
        "!pip install tensorflow"
      ]
    },
    {
      "cell_type": "code",
      "source": [
        "import tensorflow as tf\n",
        "\n",
        "net = tf.keras.models.Sequential([\n",
        "    tf.keras.layers.Dense(256, activation=tf.nn.relu),\n",
        "    tf.keras.layers.Dense(10),\n",
        "])\n",
        "\n",
        "X = tf.random.uniform((2, 20))\n",
        "net(X)"
      ],
      "metadata": {
        "colab": {
          "base_uri": "https://localhost:8080/"
        },
        "id": "S7AWMWhYG_wZ",
        "outputId": "9bfaf8ee-02d4-45d9-ffcc-808ed82408b5"
      },
      "execution_count": 2,
      "outputs": [
        {
          "output_type": "execute_result",
          "data": {
            "text/plain": [
              "<tf.Tensor: shape=(2, 10), dtype=float32, numpy=\n",
              "array([[-0.19972304,  0.10554504, -0.11012951,  0.3230997 , -0.44785488,\n",
              "         0.07764715, -0.02703544,  0.3820716 ,  0.1305605 ,  0.01819761],\n",
              "       [-0.28832498, -0.12743403, -0.1395668 ,  0.06601176, -0.45195198,\n",
              "         0.08324055,  0.08351629,  0.30032688,  0.01164881,  0.28208265]],\n",
              "      dtype=float32)>"
            ]
          },
          "metadata": {},
          "execution_count": 2
        }
      ]
    },
    {
      "cell_type": "code",
      "source": [
        "class MLP(tf.keras.Model):\n",
        "    # Declare a layer with model parameters. Here, we declare two fully\n",
        "    # connected layers\n",
        "    def __init__(self):\n",
        "        # Call the constructor of the `MLP` parent class `Model` to perform\n",
        "        # the necessary initialization. In this way, other function arguments\n",
        "        # can also be specified during class instantiation, such as the model\n",
        "        # parameters, `params` (to be described later)\n",
        "        super().__init__()\n",
        "        # Hidden layer\n",
        "        self.hidden = tf.keras.layers.Dense(units=256, activation=tf.nn.relu)\n",
        "        self.out = tf.keras.layers.Dense(units=10)  # Output layer\n",
        "\n",
        "    # Define the forward propagation of the model, that is, how to return the\n",
        "    # required model output based on the input `X`\n",
        "    def call(self, X):\n",
        "        return self.out(self.hidden((X)))"
      ],
      "metadata": {
        "id": "I1H946Nrfl0j"
      },
      "execution_count": 3,
      "outputs": []
    },
    {
      "cell_type": "code",
      "source": [
        "net = MLP()\n",
        "net(X)"
      ],
      "metadata": {
        "colab": {
          "base_uri": "https://localhost:8080/"
        },
        "id": "W4b6Pk7vHlaG",
        "outputId": "181f383e-5e0e-430f-b6d4-dfbd97fc964c"
      },
      "execution_count": 4,
      "outputs": [
        {
          "output_type": "execute_result",
          "data": {
            "text/plain": [
              "<tf.Tensor: shape=(2, 10), dtype=float32, numpy=\n",
              "array([[ 0.54825616,  0.12715551, -0.09970228, -0.03812456, -0.06692524,\n",
              "        -0.11793038, -0.08906598, -0.14488201,  0.32516354, -0.22418684],\n",
              "       [ 0.38154572,  0.1982457 , -0.13222033, -0.18031392, -0.1924639 ,\n",
              "        -0.07184633,  0.22664297, -0.10818814,  0.17820944, -0.27411374]],\n",
              "      dtype=float32)>"
            ]
          },
          "metadata": {},
          "execution_count": 4
        }
      ]
    },
    {
      "cell_type": "code",
      "source": [
        "class MySequential(tf.keras.Model):\n",
        "    def __init__(self, *args):\n",
        "        super().__init__()\n",
        "        self.modules = []\n",
        "        for block in args:\n",
        "            # Here, `block` is an instance of a `tf.keras.layers.Layer`\n",
        "            # subclass\n",
        "            self.modules.append(block)\n",
        "\n",
        "    def call(self, X):\n",
        "        for module in self.modules:\n",
        "            X = module(X)\n",
        "        return X"
      ],
      "metadata": {
        "id": "_rqAz0ACIltK"
      },
      "execution_count": 5,
      "outputs": []
    },
    {
      "cell_type": "code",
      "source": [
        "net = MySequential(\n",
        "    tf.keras.layers.Dense(units=256, activation=tf.nn.relu),\n",
        "    tf.keras.layers.Dense(10))\n",
        "net(X)"
      ],
      "metadata": {
        "colab": {
          "base_uri": "https://localhost:8080/"
        },
        "id": "limuUX2ZIst1",
        "outputId": "db1ae668-7291-4fd1-8ba2-eaba923e7c8d"
      },
      "execution_count": 6,
      "outputs": [
        {
          "output_type": "execute_result",
          "data": {
            "text/plain": [
              "<tf.Tensor: shape=(2, 10), dtype=float32, numpy=\n",
              "array([[ 0.37945473, -0.35502687, -0.12435555,  0.09628855, -0.23769358,\n",
              "         0.34311736,  0.20421913,  0.06033473, -0.3476956 ,  0.0346743 ],\n",
              "       [ 0.1215577 ,  0.00308669, -0.08875528, -0.05895523, -0.09267834,\n",
              "         0.26825336, -0.01543486,  0.11054173, -0.3861718 ,  0.00378278]],\n",
              "      dtype=float32)>"
            ]
          },
          "metadata": {},
          "execution_count": 6
        }
      ]
    },
    {
      "cell_type": "code",
      "source": [
        "class FixedHiddenMLP(tf.keras.Model):\n",
        "    def __init__(self):\n",
        "        super().__init__()\n",
        "        self.flatten = tf.keras.layers.Flatten()\n",
        "        # Random weight parameters created with `tf.constant` are not updated\n",
        "        # during training (i.e., constant parameters)\n",
        "        self.rand_weight = tf.constant(tf.random.uniform((20, 20)))\n",
        "        self.dense = tf.keras.layers.Dense(20, activation=tf.nn.relu)\n",
        "\n",
        "    def call(self, inputs):\n",
        "        X = self.flatten(inputs)\n",
        "        # Use the created constant parameters, as well as the `relu` and\n",
        "        # `matmul` functions\n",
        "        X = tf.nn.relu(tf.matmul(X, self.rand_weight) + 1)\n",
        "        # Reuse the fully-connected layer. This is equivalent to sharing\n",
        "        # parameters with two fully-connected layers\n",
        "        X = self.dense(X)\n",
        "        # Control flow\n",
        "        while tf.reduce_sum(tf.math.abs(X)) > 1:\n",
        "            X /= 2\n",
        "        return tf.reduce_sum(X)"
      ],
      "metadata": {
        "id": "B0kqMXvhI1lT"
      },
      "execution_count": 7,
      "outputs": []
    },
    {
      "cell_type": "code",
      "source": [
        "net = FixedHiddenMLP()\n",
        "net(X)"
      ],
      "metadata": {
        "colab": {
          "base_uri": "https://localhost:8080/"
        },
        "id": "CYItCy0AI6qI",
        "outputId": "e3f1e4a2-036c-40cd-ce82-37bcb89ae898"
      },
      "execution_count": 8,
      "outputs": [
        {
          "output_type": "execute_result",
          "data": {
            "text/plain": [
              "<tf.Tensor: shape=(), dtype=float32, numpy=0.8173783>"
            ]
          },
          "metadata": {},
          "execution_count": 8
        }
      ]
    },
    {
      "cell_type": "code",
      "source": [
        "class NestMLP(tf.keras.Model):\n",
        "    def __init__(self):\n",
        "        super().__init__()\n",
        "        self.net = tf.keras.Sequential()\n",
        "        self.net.add(tf.keras.layers.Dense(64, activation=tf.nn.relu))\n",
        "        self.net.add(tf.keras.layers.Dense(32, activation=tf.nn.relu))\n",
        "        self.dense = tf.keras.layers.Dense(16, activation=tf.nn.relu)\n",
        "\n",
        "    def call(self, inputs):\n",
        "        return self.dense(self.net(inputs))\n",
        "\n",
        "chimera = tf.keras.Sequential()\n",
        "chimera.add(NestMLP())\n",
        "chimera.add(tf.keras.layers.Dense(20))\n",
        "chimera.add(FixedHiddenMLP())\n",
        "chimera(X)"
      ],
      "metadata": {
        "colab": {
          "base_uri": "https://localhost:8080/"
        },
        "id": "UeuiwXxWJENg",
        "outputId": "895dfdc3-a96f-45fb-af34-23efe19a4ec6"
      },
      "execution_count": 9,
      "outputs": [
        {
          "output_type": "execute_result",
          "data": {
            "text/plain": [
              "<tf.Tensor: shape=(), dtype=float32, numpy=0.807922>"
            ]
          },
          "metadata": {},
          "execution_count": 9
        }
      ]
    },
    {
      "cell_type": "code",
      "source": [
        "import tensorflow as tf\n",
        "\n",
        "net = tf.keras.models.Sequential([\n",
        "    tf.keras.layers.Flatten(),\n",
        "    tf.keras.layers.Dense(4, activation=tf.nn.relu),\n",
        "    tf.keras.layers.Dense(1),\n",
        "])\n",
        "\n",
        "X = tf.random.uniform((2, 4))\n",
        "net(X)"
      ],
      "metadata": {
        "colab": {
          "base_uri": "https://localhost:8080/"
        },
        "id": "mpn9m-D8J9RA",
        "outputId": "820d3489-b7b5-46e1-a489-650db10210dd"
      },
      "execution_count": 10,
      "outputs": [
        {
          "output_type": "execute_result",
          "data": {
            "text/plain": [
              "<tf.Tensor: shape=(2, 1), dtype=float32, numpy=\n",
              "array([[-0.47064054],\n",
              "       [-1.089777  ]], dtype=float32)>"
            ]
          },
          "metadata": {},
          "execution_count": 10
        }
      ]
    },
    {
      "cell_type": "code",
      "source": [
        "print(net.layers[2].weights)"
      ],
      "metadata": {
        "colab": {
          "base_uri": "https://localhost:8080/"
        },
        "id": "OiMRz8E6KCfP",
        "outputId": "eba540e6-c08e-403a-8edc-3267ea394bbb"
      },
      "execution_count": 11,
      "outputs": [
        {
          "output_type": "stream",
          "name": "stdout",
          "text": [
            "[<tf.Variable 'dense_13/kernel:0' shape=(4, 1) dtype=float32, numpy=\n",
            "array([[-0.06616044],\n",
            "       [-0.99321026],\n",
            "       [-0.4158613 ],\n",
            "       [-0.39634013]], dtype=float32)>, <tf.Variable 'dense_13/bias:0' shape=(1,) dtype=float32, numpy=array([0.], dtype=float32)>]\n"
          ]
        }
      ]
    },
    {
      "cell_type": "code",
      "source": [
        "print(type(net.layers[2].weights[1]))\n",
        "print(net.layers[2].weights[1])\n",
        "print(tf.convert_to_tensor(net.layers[2].weights[1]))"
      ],
      "metadata": {
        "colab": {
          "base_uri": "https://localhost:8080/"
        },
        "id": "NEO7316XKJbg",
        "outputId": "c05dac69-fb2a-42cf-8e7b-f68ed7bfa575"
      },
      "execution_count": 12,
      "outputs": [
        {
          "output_type": "stream",
          "name": "stdout",
          "text": [
            "<class 'tensorflow.python.ops.resource_variable_ops.ResourceVariable'>\n",
            "<tf.Variable 'dense_13/bias:0' shape=(1,) dtype=float32, numpy=array([0.], dtype=float32)>\n",
            "tf.Tensor([0.], shape=(1,), dtype=float32)\n"
          ]
        }
      ]
    },
    {
      "cell_type": "code",
      "source": [
        "print(net.layers[1].weights)\n",
        "print(net.get_weights())"
      ],
      "metadata": {
        "colab": {
          "base_uri": "https://localhost:8080/"
        },
        "id": "mX5iBu1ZKQrF",
        "outputId": "9c853de1-e420-481e-f9c6-a778ecd3b6e9"
      },
      "execution_count": 13,
      "outputs": [
        {
          "output_type": "stream",
          "name": "stdout",
          "text": [
            "[<tf.Variable 'dense_12/kernel:0' shape=(4, 4) dtype=float32, numpy=\n",
            "array([[ 0.21608943, -0.12453258, -0.41918164,  0.6595352 ],\n",
            "       [ 0.22498494,  0.86550635,  0.79513544,  0.2259211 ],\n",
            "       [-0.15971953,  0.64756125, -0.6597165 ,  0.14597517],\n",
            "       [-0.04679525, -0.03970128, -0.2970749 ,  0.28621763]],\n",
            "      dtype=float32)>, <tf.Variable 'dense_12/bias:0' shape=(4,) dtype=float32, numpy=array([0., 0., 0., 0.], dtype=float32)>]\n",
            "[array([[ 0.21608943, -0.12453258, -0.41918164,  0.6595352 ],\n",
            "       [ 0.22498494,  0.86550635,  0.79513544,  0.2259211 ],\n",
            "       [-0.15971953,  0.64756125, -0.6597165 ,  0.14597517],\n",
            "       [-0.04679525, -0.03970128, -0.2970749 ,  0.28621763]],\n",
            "      dtype=float32), array([0., 0., 0., 0.], dtype=float32), array([[-0.06616044],\n",
            "       [-0.99321026],\n",
            "       [-0.4158613 ],\n",
            "       [-0.39634013]], dtype=float32), array([0.], dtype=float32)]\n"
          ]
        }
      ]
    },
    {
      "cell_type": "code",
      "source": [
        "net.get_weights()[1]"
      ],
      "metadata": {
        "colab": {
          "base_uri": "https://localhost:8080/"
        },
        "id": "pq6cxKlrKfH8",
        "outputId": "890abec8-63df-4304-ae38-319f7350960d"
      },
      "execution_count": 14,
      "outputs": [
        {
          "output_type": "execute_result",
          "data": {
            "text/plain": [
              "array([0., 0., 0., 0.], dtype=float32)"
            ]
          },
          "metadata": {},
          "execution_count": 14
        }
      ]
    },
    {
      "cell_type": "code",
      "source": [
        "def block1(name):\n",
        "    return tf.keras.Sequential([\n",
        "        tf.keras.layers.Flatten(),\n",
        "        tf.keras.layers.Dense(4, activation=tf.nn.relu)],\n",
        "        name=name)\n",
        "\n",
        "def block2():\n",
        "    net = tf.keras.Sequential()\n",
        "    for i in range(4):\n",
        "        # Nested here\n",
        "        net.add(block1(name=f'block-{i}'))\n",
        "    return net\n",
        "\n",
        "rgnet = tf.keras.Sequential()\n",
        "rgnet.add(block2())\n",
        "rgnet.add(tf.keras.layers.Dense(1))\n",
        "rgnet(X)"
      ],
      "metadata": {
        "colab": {
          "base_uri": "https://localhost:8080/"
        },
        "id": "Ly--WeIxKlM3",
        "outputId": "9da1a2f6-77cf-49fc-b59c-1898ccf7098e"
      },
      "execution_count": 15,
      "outputs": [
        {
          "output_type": "execute_result",
          "data": {
            "text/plain": [
              "<tf.Tensor: shape=(2, 1), dtype=float32, numpy=\n",
              "array([[0.],\n",
              "       [0.]], dtype=float32)>"
            ]
          },
          "metadata": {},
          "execution_count": 15
        }
      ]
    },
    {
      "cell_type": "code",
      "source": [
        "print(rgnet.summary())"
      ],
      "metadata": {
        "colab": {
          "base_uri": "https://localhost:8080/"
        },
        "id": "lhQ4p5Z6KqPn",
        "outputId": "7e6d35be-7d7b-4bf4-85b8-39d40aef07ae"
      },
      "execution_count": 16,
      "outputs": [
        {
          "output_type": "stream",
          "name": "stdout",
          "text": [
            "Model: \"sequential_4\"\n",
            "_________________________________________________________________\n",
            " Layer (type)                Output Shape              Param #   \n",
            "=================================================================\n",
            " sequential_5 (Sequential)   (2, 4)                    80        \n",
            "                                                                 \n",
            " dense_18 (Dense)            (2, 1)                    5         \n",
            "                                                                 \n",
            "=================================================================\n",
            "Total params: 85\n",
            "Trainable params: 85\n",
            "Non-trainable params: 0\n",
            "_________________________________________________________________\n",
            "None\n"
          ]
        }
      ]
    },
    {
      "cell_type": "code",
      "source": [
        "rgnet.layers[0].layers[1].layers[1].weights[1]"
      ],
      "metadata": {
        "colab": {
          "base_uri": "https://localhost:8080/"
        },
        "id": "IG9cB3B4KvMT",
        "outputId": "8e750d58-ff85-4404-d877-491f96d35e28"
      },
      "execution_count": 17,
      "outputs": [
        {
          "output_type": "execute_result",
          "data": {
            "text/plain": [
              "<tf.Variable 'dense_15/bias:0' shape=(4,) dtype=float32, numpy=array([0., 0., 0., 0.], dtype=float32)>"
            ]
          },
          "metadata": {},
          "execution_count": 17
        }
      ]
    },
    {
      "cell_type": "code",
      "source": [
        "net = tf.keras.models.Sequential([\n",
        "    tf.keras.layers.Flatten(),\n",
        "    tf.keras.layers.Dense(\n",
        "        4, activation=tf.nn.relu,\n",
        "        kernel_initializer=tf.random_normal_initializer(mean=0, stddev=0.01),\n",
        "        bias_initializer=tf.zeros_initializer()),\n",
        "    tf.keras.layers.Dense(1)])\n",
        "\n",
        "net(X)\n",
        "net.weights[0], net.weights[1]"
      ],
      "metadata": {
        "colab": {
          "base_uri": "https://localhost:8080/"
        },
        "id": "YclLgvneK2t5",
        "outputId": "ef2032e0-3af4-4b0f-fa6f-12fa34f6358f"
      },
      "execution_count": 18,
      "outputs": [
        {
          "output_type": "execute_result",
          "data": {
            "text/plain": [
              "(<tf.Variable 'dense_19/kernel:0' shape=(4, 4) dtype=float32, numpy=\n",
              " array([[ 0.01273845,  0.0195589 ,  0.00980775, -0.00056158],\n",
              "        [-0.00235775, -0.00618483,  0.00716144, -0.01217849],\n",
              "        [-0.00553137, -0.01019606, -0.00059132,  0.01063011],\n",
              "        [ 0.00141465,  0.01527356, -0.0049574 ,  0.0019931 ]],\n",
              "       dtype=float32)>,\n",
              " <tf.Variable 'dense_19/bias:0' shape=(4,) dtype=float32, numpy=array([0., 0., 0., 0.], dtype=float32)>)"
            ]
          },
          "metadata": {},
          "execution_count": 18
        }
      ]
    },
    {
      "cell_type": "code",
      "source": [
        "net = tf.keras.models.Sequential([\n",
        "    tf.keras.layers.Flatten(),\n",
        "    tf.keras.layers.Dense(\n",
        "        4, activation=tf.nn.relu,\n",
        "        kernel_initializer=tf.keras.initializers.Constant(1),\n",
        "        bias_initializer=tf.zeros_initializer()),\n",
        "    tf.keras.layers.Dense(1),\n",
        "])\n",
        "\n",
        "net(X)\n",
        "net.weights[0], net.weights[1]"
      ],
      "metadata": {
        "colab": {
          "base_uri": "https://localhost:8080/"
        },
        "id": "oXw-LMzBK8eV",
        "outputId": "49286ad0-8ff2-4572-d077-f2882a205d76"
      },
      "execution_count": 19,
      "outputs": [
        {
          "output_type": "execute_result",
          "data": {
            "text/plain": [
              "(<tf.Variable 'dense_21/kernel:0' shape=(4, 4) dtype=float32, numpy=\n",
              " array([[1., 1., 1., 1.],\n",
              "        [1., 1., 1., 1.],\n",
              "        [1., 1., 1., 1.],\n",
              "        [1., 1., 1., 1.]], dtype=float32)>,\n",
              " <tf.Variable 'dense_21/bias:0' shape=(4,) dtype=float32, numpy=array([0., 0., 0., 0.], dtype=float32)>)"
            ]
          },
          "metadata": {},
          "execution_count": 19
        }
      ]
    },
    {
      "cell_type": "code",
      "source": [
        "net = tf.keras.models.Sequential([\n",
        "    tf.keras.layers.Flatten(),\n",
        "    tf.keras.layers.Dense(\n",
        "        4,\n",
        "        activation=tf.nn.relu,\n",
        "        kernel_initializer=tf.keras.initializers.GlorotUniform()),\n",
        "    tf.keras.layers.Dense(\n",
        "        1, kernel_initializer=tf.keras.initializers.Constant(42)),\n",
        "])\n",
        "\n",
        "net(X)\n",
        "print(net.layers[1].weights[0])\n",
        "print(net.layers[2].weights[0])"
      ],
      "metadata": {
        "colab": {
          "base_uri": "https://localhost:8080/"
        },
        "id": "hnJAEnK4LFJv",
        "outputId": "888873ae-b5ae-4d78-e0d1-b9fd71be3771"
      },
      "execution_count": 20,
      "outputs": [
        {
          "output_type": "stream",
          "name": "stdout",
          "text": [
            "<tf.Variable 'dense_23/kernel:0' shape=(4, 4) dtype=float32, numpy=\n",
            "array([[-0.27758563,  0.01159966,  0.78354436,  0.677944  ],\n",
            "       [ 0.71275085, -0.412734  ,  0.43762523, -0.52238256],\n",
            "       [ 0.09380579,  0.580362  , -0.06018525, -0.28045297],\n",
            "       [-0.2734059 ,  0.57228774,  0.6947246 , -0.23170549]],\n",
            "      dtype=float32)>\n",
            "<tf.Variable 'dense_24/kernel:0' shape=(4, 1) dtype=float32, numpy=\n",
            "array([[42.],\n",
            "       [42.],\n",
            "       [42.],\n",
            "       [42.]], dtype=float32)>\n"
          ]
        }
      ]
    },
    {
      "cell_type": "code",
      "source": [
        "class MyInit(tf.keras.initializers.Initializer):\n",
        "    def __call__(self, shape, dtype=None):\n",
        "        data=tf.random.uniform(shape, -10, 10, dtype=dtype)\n",
        "        factor=(tf.abs(data) >= 5)\n",
        "        factor=tf.cast(factor, tf.float32)\n",
        "        return data * factor\n",
        "\n",
        "net = tf.keras.models.Sequential([\n",
        "    tf.keras.layers.Flatten(),\n",
        "    tf.keras.layers.Dense(\n",
        "        4,\n",
        "        activation=tf.nn.relu,\n",
        "        kernel_initializer=MyInit()),\n",
        "    tf.keras.layers.Dense(1),\n",
        "])\n",
        "\n",
        "net(X)\n",
        "print(net.layers[1].weights[0])"
      ],
      "metadata": {
        "colab": {
          "base_uri": "https://localhost:8080/"
        },
        "id": "t3YepZ9qLLWe",
        "outputId": "57b76058-cffd-4d20-e5da-df2c975e1e13"
      },
      "execution_count": 21,
      "outputs": [
        {
          "output_type": "stream",
          "name": "stdout",
          "text": [
            "<tf.Variable 'dense_25/kernel:0' shape=(4, 4) dtype=float32, numpy=\n",
            "array([[ 5.3713703, -5.964012 ,  5.149746 , -8.564598 ],\n",
            "       [-0.       ,  0.       , -0.       ,  5.375986 ],\n",
            "       [-5.300002 ,  5.495579 , -5.7583594, -0.       ],\n",
            "       [ 0.       , -0.       , -8.00374  , -8.900638 ]], dtype=float32)>\n"
          ]
        }
      ]
    },
    {
      "cell_type": "code",
      "source": [
        "net.layers[1].weights[0][:].assign(net.layers[1].weights[0] + 1)\n",
        "net.layers[1].weights[0][0, 0].assign(42)\n",
        "net.layers[1].weights[0]"
      ],
      "metadata": {
        "colab": {
          "base_uri": "https://localhost:8080/"
        },
        "id": "10UdeTAGLQGn",
        "outputId": "c19d76b0-fff2-4e2a-c066-0371567c2d60"
      },
      "execution_count": 22,
      "outputs": [
        {
          "output_type": "execute_result",
          "data": {
            "text/plain": [
              "<tf.Variable 'dense_25/kernel:0' shape=(4, 4) dtype=float32, numpy=\n",
              "array([[42.       , -4.964012 ,  6.149746 , -7.564598 ],\n",
              "       [ 1.       ,  1.       ,  1.       ,  6.375986 ],\n",
              "       [-4.300002 ,  6.495579 , -4.7583594,  1.       ],\n",
              "       [ 1.       ,  1.       , -7.0037403, -7.9006376]], dtype=float32)>"
            ]
          },
          "metadata": {},
          "execution_count": 22
        }
      ]
    },
    {
      "cell_type": "code",
      "source": [
        "# tf.keras behaves a bit differently. It removes the duplicate layer\n",
        "# automatically\n",
        "shared = tf.keras.layers.Dense(4, activation=tf.nn.relu)\n",
        "net = tf.keras.models.Sequential([\n",
        "    tf.keras.layers.Flatten(),\n",
        "    shared,\n",
        "    shared,\n",
        "    tf.keras.layers.Dense(1),\n",
        "])\n",
        "\n",
        "net(X)\n",
        "# Check whether the parameters are different\n",
        "print(len(net.layers) == 3)"
      ],
      "metadata": {
        "colab": {
          "base_uri": "https://localhost:8080/"
        },
        "id": "yUoXiiiZLU_1",
        "outputId": "14b35064-b6ea-47c4-fccb-45974152026c"
      },
      "execution_count": 23,
      "outputs": [
        {
          "output_type": "stream",
          "name": "stdout",
          "text": [
            "True\n"
          ]
        }
      ]
    },
    {
      "cell_type": "code",
      "source": [
        "import tensorflow as tf\n",
        "\n",
        "net = tf.keras.models.Sequential([\n",
        "    tf.keras.layers.Dense(256, activation=tf.nn.relu),\n",
        "    tf.keras.layers.Dense(10),\n",
        "])"
      ],
      "metadata": {
        "id": "1qguY3V9hdDe"
      },
      "execution_count": 24,
      "outputs": []
    },
    {
      "cell_type": "code",
      "source": [
        "[net.layers[i].get_weights() for i in range(len(net.layers))]"
      ],
      "metadata": {
        "colab": {
          "base_uri": "https://localhost:8080/"
        },
        "id": "7KzA0-4XhPEV",
        "outputId": "94644950-e61d-46ae-8cad-f29578e9ee0d"
      },
      "execution_count": 25,
      "outputs": [
        {
          "output_type": "execute_result",
          "data": {
            "text/plain": [
              "[[], []]"
            ]
          },
          "metadata": {},
          "execution_count": 25
        }
      ]
    },
    {
      "cell_type": "code",
      "source": [
        "X = tf.random.uniform((2, 20))\n",
        "net(X)\n",
        "[w.shape for w in net.get_weights()]"
      ],
      "metadata": {
        "colab": {
          "base_uri": "https://localhost:8080/"
        },
        "id": "ZdGt9BD_hUGa",
        "outputId": "13d4c527-a510-4eb5-ea73-fe13cde75f31"
      },
      "execution_count": 26,
      "outputs": [
        {
          "output_type": "execute_result",
          "data": {
            "text/plain": [
              "[(20, 256), (256,), (256, 10), (10,)]"
            ]
          },
          "metadata": {},
          "execution_count": 26
        }
      ]
    },
    {
      "cell_type": "code",
      "source": [
        "import tensorflow as tf\n",
        "\n",
        "\n",
        "class CenteredLayer(tf.keras.Model):\n",
        "    def __init__(self):\n",
        "        super().__init__()\n",
        "\n",
        "    def call(self, inputs):\n",
        "        return inputs - tf.reduce_mean(inputs)"
      ],
      "metadata": {
        "id": "c_jHaMbKhhKN"
      },
      "execution_count": 27,
      "outputs": []
    },
    {
      "cell_type": "code",
      "source": [
        "layer = CenteredLayer()\n",
        "layer(tf.constant([1, 2, 3, 4, 5]))"
      ],
      "metadata": {
        "colab": {
          "base_uri": "https://localhost:8080/"
        },
        "id": "a7Iq9v-Qhyui",
        "outputId": "c9dda5b4-2763-4365-cf02-caa6e035db73"
      },
      "execution_count": 28,
      "outputs": [
        {
          "output_type": "execute_result",
          "data": {
            "text/plain": [
              "<tf.Tensor: shape=(5,), dtype=int32, numpy=array([-2, -1,  0,  1,  2], dtype=int32)>"
            ]
          },
          "metadata": {},
          "execution_count": 28
        }
      ]
    },
    {
      "cell_type": "code",
      "source": [
        "net = tf.keras.Sequential([tf.keras.layers.Dense(128), CenteredLayer()])"
      ],
      "metadata": {
        "id": "S-IJHVIJh4z9"
      },
      "execution_count": 29,
      "outputs": []
    },
    {
      "cell_type": "code",
      "source": [
        "Y = net(tf.random.uniform((4, 8)))\n",
        "tf.reduce_mean(Y)"
      ],
      "metadata": {
        "colab": {
          "base_uri": "https://localhost:8080/"
        },
        "id": "RsqwgxFqh5Dp",
        "outputId": "f0c21f1d-d660-4f68-e1bf-250e517da921"
      },
      "execution_count": 30,
      "outputs": [
        {
          "output_type": "execute_result",
          "data": {
            "text/plain": [
              "<tf.Tensor: shape=(), dtype=float32, numpy=3.4924597e-10>"
            ]
          },
          "metadata": {},
          "execution_count": 30
        }
      ]
    },
    {
      "cell_type": "code",
      "source": [
        "class MyDense(tf.keras.Model):\n",
        "    def __init__(self, units):\n",
        "        super().__init__()\n",
        "        self.units = units\n",
        "\n",
        "    def build(self, X_shape):\n",
        "        self.weight = self.add_weight(name='weight',\n",
        "            shape=[X_shape[-1], self.units],\n",
        "            initializer=tf.random_normal_initializer())\n",
        "        self.bias = self.add_weight(\n",
        "            name='bias', shape=[self.units],\n",
        "            initializer=tf.zeros_initializer())\n",
        "\n",
        "    def call(self, X):\n",
        "        linear = tf.matmul(X, self.weight) + self.bias\n",
        "        return tf.nn.relu(linear)"
      ],
      "metadata": {
        "id": "xQPkIZlDiBID"
      },
      "execution_count": 31,
      "outputs": []
    },
    {
      "cell_type": "code",
      "source": [
        "dense = MyDense(3)\n",
        "dense(tf.random.uniform((2, 5)))\n",
        "dense.get_weights()"
      ],
      "metadata": {
        "colab": {
          "base_uri": "https://localhost:8080/"
        },
        "id": "XxjBPmCdiJfz",
        "outputId": "a9b14c1e-e30e-4117-f43a-c34c4e0d7fa3"
      },
      "execution_count": 32,
      "outputs": [
        {
          "output_type": "execute_result",
          "data": {
            "text/plain": [
              "[array([[ 0.04701597, -0.02003079,  0.02423454],\n",
              "        [ 0.10692139, -0.01675804, -0.03165359],\n",
              "        [-0.06679197,  0.02448767, -0.00616501],\n",
              "        [ 0.05823506,  0.02232518,  0.003425  ],\n",
              "        [ 0.00058166,  0.05301313, -0.03810417]], dtype=float32),\n",
              " array([0., 0., 0.], dtype=float32)]"
            ]
          },
          "metadata": {},
          "execution_count": 32
        }
      ]
    },
    {
      "cell_type": "code",
      "source": [
        "dense(tf.random.uniform((2, 5)))"
      ],
      "metadata": {
        "colab": {
          "base_uri": "https://localhost:8080/"
        },
        "id": "QQlTeVj5iOMG",
        "outputId": "bd23ca65-9eac-4585-887e-8da19ca6db62"
      },
      "execution_count": 33,
      "outputs": [
        {
          "output_type": "execute_result",
          "data": {
            "text/plain": [
              "<tf.Tensor: shape=(2, 3), dtype=float32, numpy=\n",
              "array([[0.08291596, 0.05687606, 0.        ],\n",
              "       [0.0827801 , 0.07321918, 0.        ]], dtype=float32)>"
            ]
          },
          "metadata": {},
          "execution_count": 33
        }
      ]
    },
    {
      "cell_type": "code",
      "source": [
        "net = tf.keras.models.Sequential([MyDense(8), MyDense(1)])\n",
        "net(tf.random.uniform((2, 64)))"
      ],
      "metadata": {
        "colab": {
          "base_uri": "https://localhost:8080/"
        },
        "id": "4faaT5atiR0e",
        "outputId": "9dfaa582-af90-48a2-f1a6-c7cbf438a03d"
      },
      "execution_count": 34,
      "outputs": [
        {
          "output_type": "execute_result",
          "data": {
            "text/plain": [
              "<tf.Tensor: shape=(2, 1), dtype=float32, numpy=\n",
              "array([[0.00881487],\n",
              "       [0.0088983 ]], dtype=float32)>"
            ]
          },
          "metadata": {},
          "execution_count": 34
        }
      ]
    },
    {
      "cell_type": "code",
      "source": [
        "import numpy as np\n",
        "import tensorflow as tf\n",
        "\n",
        "x = tf.range(4)\n",
        "np.save('x-file.npy', x)"
      ],
      "metadata": {
        "id": "XrjdvFkhifzy"
      },
      "execution_count": 35,
      "outputs": []
    },
    {
      "cell_type": "code",
      "source": [
        "x2 = np.load('x-file.npy', allow_pickle=True)\n",
        "x2"
      ],
      "metadata": {
        "colab": {
          "base_uri": "https://localhost:8080/"
        },
        "id": "Cl9zj9clilGq",
        "outputId": "68473b66-887d-4c3c-8b69-33a32935f30c"
      },
      "execution_count": 36,
      "outputs": [
        {
          "output_type": "execute_result",
          "data": {
            "text/plain": [
              "array([0, 1, 2, 3], dtype=int32)"
            ]
          },
          "metadata": {},
          "execution_count": 36
        }
      ]
    },
    {
      "cell_type": "code",
      "source": [
        "y = tf.zeros(4)\n",
        "np.save('xy-files.npy', [x, y])\n",
        "x2, y2 = np.load('xy-files.npy', allow_pickle=True)\n",
        "(x2, y2)"
      ],
      "metadata": {
        "colab": {
          "base_uri": "https://localhost:8080/"
        },
        "id": "yK1TKnjGioG4",
        "outputId": "9efc05c5-a5a4-407c-aca7-880a362b354c"
      },
      "execution_count": 37,
      "outputs": [
        {
          "output_type": "execute_result",
          "data": {
            "text/plain": [
              "(array([0., 1., 2., 3.]), array([0., 0., 0., 0.]))"
            ]
          },
          "metadata": {},
          "execution_count": 37
        }
      ]
    },
    {
      "cell_type": "code",
      "source": [
        "mydict = {'x': x, 'y': y}\n",
        "np.save('mydict.npy', mydict)\n",
        "mydict2 = np.load('mydict.npy', allow_pickle=True)\n",
        "mydict2"
      ],
      "metadata": {
        "colab": {
          "base_uri": "https://localhost:8080/"
        },
        "id": "J_LYxtVDizw5",
        "outputId": "5347e238-61b3-4e36-a3dc-ac28b35fd061"
      },
      "execution_count": 38,
      "outputs": [
        {
          "output_type": "execute_result",
          "data": {
            "text/plain": [
              "array({'x': <tf.Tensor: shape=(4,), dtype=int32, numpy=array([0, 1, 2, 3], dtype=int32)>, 'y': <tf.Tensor: shape=(4,), dtype=float32, numpy=array([0., 0., 0., 0.], dtype=float32)>},\n",
              "      dtype=object)"
            ]
          },
          "metadata": {},
          "execution_count": 38
        }
      ]
    },
    {
      "cell_type": "code",
      "source": [
        "class MLP(tf.keras.Model):\n",
        "    def __init__(self):\n",
        "        super().__init__()\n",
        "        self.flatten = tf.keras.layers.Flatten()\n",
        "        self.hidden = tf.keras.layers.Dense(units=256, activation=tf.nn.relu)\n",
        "        self.out = tf.keras.layers.Dense(units=10)\n",
        "\n",
        "    def call(self, inputs):\n",
        "        x = self.flatten(inputs)\n",
        "        x = self.hidden(x)\n",
        "        return self.out(x)\n",
        "\n",
        "net = MLP()\n",
        "X = tf.random.uniform((2, 20))\n",
        "Y = net(X)"
      ],
      "metadata": {
        "id": "QK6UzMdqi_Yq"
      },
      "execution_count": 39,
      "outputs": []
    },
    {
      "cell_type": "code",
      "source": [
        "net.save_weights('mlp.params')"
      ],
      "metadata": {
        "id": "uKF-rVM6jDUL"
      },
      "execution_count": 40,
      "outputs": []
    },
    {
      "cell_type": "code",
      "source": [
        "clone = MLP()\n",
        "clone.load_weights('mlp.params')"
      ],
      "metadata": {
        "colab": {
          "base_uri": "https://localhost:8080/"
        },
        "id": "oWaU-GNQjIV7",
        "outputId": "afc46228-90bd-4690-db48-cbf5b03e9330"
      },
      "execution_count": 41,
      "outputs": [
        {
          "output_type": "execute_result",
          "data": {
            "text/plain": [
              "<tensorflow.python.training.tracking.util.CheckpointLoadStatus at 0x7effb1576bd0>"
            ]
          },
          "metadata": {},
          "execution_count": 41
        }
      ]
    },
    {
      "cell_type": "code",
      "source": [
        "Y_clone = clone(X)\n",
        "Y_clone == Y"
      ],
      "metadata": {
        "colab": {
          "base_uri": "https://localhost:8080/"
        },
        "id": "L5U8qFDojOiL",
        "outputId": "eab0ccf4-0a0a-4ea7-b166-11671be1648c"
      },
      "execution_count": 42,
      "outputs": [
        {
          "output_type": "execute_result",
          "data": {
            "text/plain": [
              "<tf.Tensor: shape=(2, 10), dtype=bool, numpy=\n",
              "array([[ True,  True,  True,  True,  True,  True,  True,  True,  True,\n",
              "         True],\n",
              "       [ True,  True,  True,  True,  True,  True,  True,  True,  True,\n",
              "         True]])>"
            ]
          },
          "metadata": {},
          "execution_count": 42
        }
      ]
    },
    {
      "cell_type": "code",
      "source": [
        "!nvidia-smi"
      ],
      "metadata": {
        "colab": {
          "base_uri": "https://localhost:8080/"
        },
        "id": "x_0CY0eTjefW",
        "outputId": "42d9214c-079f-40eb-b6c3-38af075768e1"
      },
      "execution_count": 43,
      "outputs": [
        {
          "output_type": "stream",
          "name": "stdout",
          "text": [
            "NVIDIA-SMI has failed because it couldn't communicate with the NVIDIA driver. Make sure that the latest NVIDIA driver is installed and running.\n",
            "\n"
          ]
        }
      ]
    },
    {
      "cell_type": "code",
      "source": [
        "import tensorflow as tf\n",
        "\n",
        "tf.device('/CPU:0'), tf.device('/GPU:0'), tf.device('/GPU:1')"
      ],
      "metadata": {
        "colab": {
          "base_uri": "https://localhost:8080/"
        },
        "id": "e3_eanLqjmIN",
        "outputId": "543854e6-af69-4428-dadf-9dc143b4154e"
      },
      "execution_count": 44,
      "outputs": [
        {
          "output_type": "execute_result",
          "data": {
            "text/plain": [
              "(<tensorflow.python.eager.context._EagerDeviceContext at 0x7effb14b1f00>,\n",
              " <tensorflow.python.eager.context._EagerDeviceContext at 0x7effb14b1910>,\n",
              " <tensorflow.python.eager.context._EagerDeviceContext at 0x7effb14b1a50>)"
            ]
          },
          "metadata": {},
          "execution_count": 44
        }
      ]
    },
    {
      "cell_type": "code",
      "source": [
        "len(tf.config.experimental.list_physical_devices('GPU'))"
      ],
      "metadata": {
        "colab": {
          "base_uri": "https://localhost:8080/"
        },
        "id": "8x_Nn0kjjqJN",
        "outputId": "99f5bcb3-fa3c-4c38-9bcc-ec477e88eae6"
      },
      "execution_count": 45,
      "outputs": [
        {
          "output_type": "execute_result",
          "data": {
            "text/plain": [
              "0"
            ]
          },
          "metadata": {},
          "execution_count": 45
        }
      ]
    },
    {
      "cell_type": "code",
      "source": [
        "def try_gpu(i=0):  #save\n",
        "    \"\"\"Return gpu(i) if exists, otherwise return cpu().\"\"\"\n",
        "    if len(tf.config.experimental.list_physical_devices('GPU')) >= i + 1:\n",
        "        return tf.device(f'/GPU:{i}')\n",
        "    return tf.device('/CPU:0')\n",
        "\n",
        "def try_all_gpus():  #save\n",
        "    \"\"\"Return all available GPUs, or [cpu(),] if no GPU exists.\"\"\"\n",
        "    num_gpus = len(tf.config.experimental.list_physical_devices('GPU'))\n",
        "    devices = [tf.device(f'/GPU:{i}') for i in range(num_gpus)]\n",
        "    return devices if devices else [tf.device('/CPU:0')]\n",
        "\n",
        "try_gpu(), try_gpu(10), try_all_gpus()"
      ],
      "metadata": {
        "colab": {
          "base_uri": "https://localhost:8080/"
        },
        "id": "_EI41LM5j4Nd",
        "outputId": "1f4931a8-4845-4e23-b9e4-aea8345731a2"
      },
      "execution_count": 46,
      "outputs": [
        {
          "output_type": "execute_result",
          "data": {
            "text/plain": [
              "(<tensorflow.python.eager.context._EagerDeviceContext at 0x7effb14a80f0>,\n",
              " <tensorflow.python.eager.context._EagerDeviceContext at 0x7effb14fe3c0>,\n",
              " [<tensorflow.python.eager.context._EagerDeviceContext at 0x7effb14fee60>])"
            ]
          },
          "metadata": {},
          "execution_count": 46
        }
      ]
    },
    {
      "cell_type": "code",
      "source": [
        "x = tf.constant([1, 2, 3])\n",
        "x.device"
      ],
      "metadata": {
        "colab": {
          "base_uri": "https://localhost:8080/",
          "height": 35
        },
        "id": "DA2OhoXvkKkM",
        "outputId": "71ba7da7-ac9d-4ced-9847-9f937500cc6a"
      },
      "execution_count": 47,
      "outputs": [
        {
          "output_type": "execute_result",
          "data": {
            "text/plain": [
              "'/job:localhost/replica:0/task:0/device:CPU:0'"
            ],
            "application/vnd.google.colaboratory.intrinsic+json": {
              "type": "string"
            }
          },
          "metadata": {},
          "execution_count": 47
        }
      ]
    },
    {
      "cell_type": "code",
      "source": [
        "with try_gpu():\n",
        "    X = tf.ones((2, 3))\n",
        "X"
      ],
      "metadata": {
        "colab": {
          "base_uri": "https://localhost:8080/"
        },
        "id": "-XW7vAC9kSFy",
        "outputId": "93c65184-ec1d-4777-adea-83e32e5567b3"
      },
      "execution_count": 48,
      "outputs": [
        {
          "output_type": "execute_result",
          "data": {
            "text/plain": [
              "<tf.Tensor: shape=(2, 3), dtype=float32, numpy=\n",
              "array([[1., 1., 1.],\n",
              "       [1., 1., 1.]], dtype=float32)>"
            ]
          },
          "metadata": {},
          "execution_count": 48
        }
      ]
    },
    {
      "cell_type": "code",
      "source": [
        "with try_gpu(1):\n",
        "    Y = tf.random.uniform((2, 3))\n",
        "Y"
      ],
      "metadata": {
        "colab": {
          "base_uri": "https://localhost:8080/"
        },
        "id": "q36FDOjykVlY",
        "outputId": "88f25835-d7f9-498a-a493-f4abf37409cf"
      },
      "execution_count": 49,
      "outputs": [
        {
          "output_type": "execute_result",
          "data": {
            "text/plain": [
              "<tf.Tensor: shape=(2, 3), dtype=float32, numpy=\n",
              "array([[0.9151926 , 0.8158661 , 0.00202858],\n",
              "       [0.4408872 , 0.43007445, 0.37022722]], dtype=float32)>"
            ]
          },
          "metadata": {},
          "execution_count": 49
        }
      ]
    },
    {
      "cell_type": "code",
      "source": [
        "with try_gpu(1):\n",
        "    Z = X\n",
        "print(X)\n",
        "print(Z)"
      ],
      "metadata": {
        "colab": {
          "base_uri": "https://localhost:8080/"
        },
        "id": "1_vjOOZdkaWh",
        "outputId": "2454addb-e814-492f-e1f3-5b29764d96dc"
      },
      "execution_count": 50,
      "outputs": [
        {
          "output_type": "stream",
          "name": "stdout",
          "text": [
            "tf.Tensor(\n",
            "[[1. 1. 1.]\n",
            " [1. 1. 1.]], shape=(2, 3), dtype=float32)\n",
            "tf.Tensor(\n",
            "[[1. 1. 1.]\n",
            " [1. 1. 1.]], shape=(2, 3), dtype=float32)\n"
          ]
        }
      ]
    },
    {
      "cell_type": "code",
      "source": [
        "Y + Z"
      ],
      "metadata": {
        "colab": {
          "base_uri": "https://localhost:8080/"
        },
        "id": "0ImYJdLDkey9",
        "outputId": "e83a4342-d52b-416a-d30f-4648021a5f26"
      },
      "execution_count": 51,
      "outputs": [
        {
          "output_type": "execute_result",
          "data": {
            "text/plain": [
              "<tf.Tensor: shape=(2, 3), dtype=float32, numpy=\n",
              "array([[1.9151926, 1.8158661, 1.0020286],\n",
              "       [1.4408872, 1.4300745, 1.3702272]], dtype=float32)>"
            ]
          },
          "metadata": {},
          "execution_count": 51
        }
      ]
    },
    {
      "cell_type": "code",
      "source": [
        "with try_gpu(1):\n",
        "    Z2 = Z\n",
        "Z2 is Z"
      ],
      "metadata": {
        "colab": {
          "base_uri": "https://localhost:8080/"
        },
        "id": "nmNKBmWgkhxZ",
        "outputId": "c613dea8-467d-49e2-853b-45164768c225"
      },
      "execution_count": 52,
      "outputs": [
        {
          "output_type": "execute_result",
          "data": {
            "text/plain": [
              "True"
            ]
          },
          "metadata": {},
          "execution_count": 52
        }
      ]
    },
    {
      "cell_type": "code",
      "source": [
        "strategy = tf.distribute.MirroredStrategy()\n",
        "with strategy.scope():\n",
        "    net = tf.keras.models.Sequential([\n",
        "        tf.keras.layers.Dense(1)])"
      ],
      "metadata": {
        "colab": {
          "base_uri": "https://localhost:8080/"
        },
        "id": "zy71sjMkkmOD",
        "outputId": "e23ae5c8-e72f-4697-b4bb-6ea796fcaf19"
      },
      "execution_count": 53,
      "outputs": [
        {
          "output_type": "stream",
          "name": "stdout",
          "text": [
            "WARNING:tensorflow:There are non-GPU devices in `tf.distribute.Strategy`, not using nccl allreduce.\n",
            "INFO:tensorflow:Using MirroredStrategy with devices ('/job:localhost/replica:0/task:0/device:CPU:0',)\n"
          ]
        }
      ]
    },
    {
      "cell_type": "code",
      "source": [
        "net(X)"
      ],
      "metadata": {
        "id": "UtIXuSg4kshM",
        "outputId": "db6f843f-d1de-433c-94f3-38adf0125f7f",
        "colab": {
          "base_uri": "https://localhost:8080/"
        }
      },
      "execution_count": 54,
      "outputs": [
        {
          "output_type": "execute_result",
          "data": {
            "text/plain": [
              "<tf.Tensor: shape=(2, 1), dtype=float32, numpy=\n",
              "array([[0.7147591],\n",
              "       [0.7147591]], dtype=float32)>"
            ]
          },
          "metadata": {},
          "execution_count": 54
        }
      ]
    },
    {
      "cell_type": "code",
      "source": [
        "net.layers[0].weights[0].device, net.layers[0].weights[1].device"
      ],
      "metadata": {
        "id": "DrUOyODZkwnH",
        "outputId": "f1a135b6-8f64-4bc3-ec07-bfc7ca939a06",
        "colab": {
          "base_uri": "https://localhost:8080/"
        }
      },
      "execution_count": 55,
      "outputs": [
        {
          "output_type": "execute_result",
          "data": {
            "text/plain": [
              "('/job:localhost/replica:0/task:0/device:CPU:0',\n",
              " '/job:localhost/replica:0/task:0/device:CPU:0')"
            ]
          },
          "metadata": {},
          "execution_count": 55
        }
      ]
    }
  ]
}